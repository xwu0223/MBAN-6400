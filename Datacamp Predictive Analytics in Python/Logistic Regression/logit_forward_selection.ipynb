{
 "cells": [
  {
   "cell_type": "markdown",
   "metadata": {},
   "source": [
    "## Forward stepwise variable selection for logistic regression"
   ]
  },
  {
   "cell_type": "code",
   "execution_count": 1,
   "metadata": {},
   "outputs": [],
   "source": [
    "import pandas as pd"
   ]
  },
  {
   "cell_type": "code",
   "execution_count": 2,
   "metadata": {},
   "outputs": [],
   "source": [
    "data = pd.read_csv('/Users/xingkaiwu/OneDrive - York University/MBAN Winter/MBAN 6400/Datacamp Predictive Analytics in Python/basetable_ex2_4.csv')"
   ]
  },
  {
   "cell_type": "code",
   "execution_count": 19,
   "metadata": {},
   "outputs": [],
   "source": [
    "from sklearn import linear_model\n",
    "from sklearn.metrics import roc_auc_score\n",
    "from sklearn.model_selection import train_test_split\n",
    "import warnings\n",
    "from sklearn.exceptions import DataConversionWarning\n",
    "warnings.filterwarnings(action='ignore', category=DataConversionWarning)\n",
    "def auc(variables, target, basetable):\n",
    "    X = basetable[variables]\n",
    "    y = basetable[target]\n",
    "    logreg = linear_model.LogisticRegression(max_iter=1000)\n",
    "    logreg.fit(X, y)\n",
    "    predictions = logreg.predict_proba(X)[:,1]\n",
    "    auc = roc_auc_score(y, predictions)\n",
    "    return(auc)\n",
    "\n",
    "def next_best(current_variables,candidate_variables, target, basetable):\n",
    "    best_auc = -1\n",
    "    best_variable = None\n",
    "    for v in candidate_variables:\n",
    "        auc_v = auc(current_variables + [v], target, basetable)\n",
    "        if auc_v >= best_auc:\n",
    "            best_auc = auc_v\n",
    "            best_variable = v\n",
    "    return best_variable\n",
    "\n",
    "# df: dataframe, target: target variable name with \" \"\n",
    "def forward_stepwise(df,target,number_iterations):\n",
    "\n",
    "    # Find the candidate variables\n",
    "    candidate_variables = list(df.columns.values)\n",
    "    candidate_variables.remove(target)\n",
    "\n",
    "    # Initialize the current variables\n",
    "    current_variables = []\n",
    "\n",
    "    # The forward stepwise variable selection procedure\n",
    "    for i in range(0, number_iterations):\n",
    "        next_variable = next_best(current_variables, candidate_variables, [target], df)\n",
    "        current_variables = current_variables + [next_variable]\n",
    "        candidate_variables.remove(next_variable)\n",
    "        print(\"Variable added in step \" + str(i+1)  + \" is \" + next_variable + \".\")\n",
    "    print(current_variables)\n",
    "\n",
    "def auc_train_test(variables, target, train, test):\n",
    "    X_train = train[variables]\n",
    "    X_test = test[variables]\n",
    "    Y_train = train[target]\n",
    "    Y_test = test[target]\n",
    "    logreg = linear_model.LogisticRegression(max_iter=1000)\n",
    "    \n",
    "    # Fit the model on train data\n",
    "    logreg.fit(X_train, Y_train)\n",
    "    \n",
    "    # Calculate the predictions both on train and test data\n",
    "    predictions_train = logreg.predict_proba(X_train)[:,1]\n",
    "    predictions_test = logreg.predict_proba(X_test)[:,1]\n",
    "    \n",
    "    # Calculate the AUC both on train and test data\n",
    "    auc_train = roc_auc_score(Y_train, predictions_train)\n",
    "    auc_test = roc_auc_score(Y_test,predictions_test)\n",
    "    return(auc_train, auc_test)"
   ]
  },
  {
   "cell_type": "code",
   "execution_count": 17,
   "metadata": {},
   "outputs": [
    {
     "name": "stdout",
     "output_type": "stream",
     "text": [
      "Variable added in step 1 is max_gift.\n",
      "Variable added in step 2 is number_gift.\n",
      "Variable added in step 3 is time_since_last_gift.\n",
      "Variable added in step 4 is mean_gift.\n",
      "Variable added in step 5 is age.\n",
      "['max_gift', 'number_gift', 'time_since_last_gift', 'mean_gift', 'age']\n"
     ]
    }
   ],
   "source": [
    "basetable = data[['target', 'gender_F', 'income_high', 'income_low', 'country_USA',\n",
    "       'country_India', 'country_UK', 'age', 'time_since_last_gift',\n",
    "       'time_since_first_gift', 'max_gift', 'min_gift', 'mean_gift',\n",
    "       'number_gift']]\n",
    "\n",
    "forward_stepwise(basetable,\"target\",5)"
   ]
  },
  {
   "cell_type": "code",
   "execution_count": 6,
   "metadata": {},
   "outputs": [
    {
     "name": "stdout",
     "output_type": "stream",
     "text": [
      "0.55\n",
      "0.53\n"
     ]
    },
    {
     "name": "stderr",
     "output_type": "stream",
     "text": [
      "/var/folders/9s/zz7k8h2949d__gv0rmbn3yj80000gn/T/ipykernel_31057/2139685592.py:7: FutureWarning: In a future version of pandas all arguments of DataFrame.drop except for the argument 'labels' will be keyword-only\n",
      "  X = basetable.drop('target', 1)\n",
      "/Users/xingkaiwu/miniforge3/envs/tf/lib/python3.8/site-packages/sklearn/utils/validation.py:985: DataConversionWarning: A column-vector y was passed when a 1d array was expected. Please change the shape of y to (n_samples, ), for example using ravel().\n",
      "  y = column_or_1d(y, warn=True)\n"
     ]
    }
   ],
   "source": [
    "# Create dataframes with variables and target\n",
    "X = basetable.drop('target', 1)\n",
    "y = basetable[\"target\"]\n",
    "\n",
    "# Carry out 70-30 partititioning with stratification\n",
    "X_train, X_test, y_train, y_test = train_test_split(X, y, test_size = 0.3, stratify = y)\n",
    "\n",
    "# Create the final train and test basetables\n",
    "train = pd.concat([X_train, y_train], axis=1)\n",
    "test = pd.concat([X_test, y_test], axis=1)\n",
    "\n",
    " # Apply the auc_train_test function\n",
    "auc_train, auc_test = auc_train_test(['age', 'gender_F'], [\"target\"], train, test)\n",
    "print(round(auc_train,2))\n",
    "print(round(auc_test,2))"
   ]
  },
  {
   "cell_type": "code",
   "execution_count": 20,
   "metadata": {},
   "outputs": [
    {
     "data": {
      "image/png": "[encoded data removed]",
      "text/plain": [
       "<Figure size 432x288 with 1 Axes>"
      ]
     },
     "metadata": {
      "needs_background": "light"
     },
     "output_type": "display_data"
    }
   ],
   "source": [
    "# Keep track of train and test AUC values\n",
    "auc_values_train = []\n",
    "auc_values_test = []\n",
    "variables_evaluate = []\n",
    "\n",
    "# Iterate over the variables in variables\n",
    "variables = ['max_gift',\n",
    " 'time_since_last_gift',\n",
    " 'number_gift',\n",
    " 'mean_gift',\n",
    " 'income_high',\n",
    " 'age',\n",
    " 'gender_F',\n",
    " 'time_since_first_gift',\n",
    " 'income_low',\n",
    " 'country_UK']\n",
    " \n",
    "for v in variables:\n",
    "  \n",
    "    # Add the variable\n",
    "    variables_evaluate.append(v)\n",
    "    \n",
    "    # Calculate the train and test AUC of this set of variables\n",
    "    auc_train, auc_test = auc_train_test(variables_evaluate, [\"target\"], train, test)\n",
    "    \n",
    "    # Append the values to the lists\n",
    "    auc_values_train.append(auc_train)\n",
    "    auc_values_test.append(auc_test)\n",
    "    \n",
    "# Make plot of the AUC values\n",
    "import matplotlib.pyplot as plt\n",
    "import numpy as np\n",
    "\n",
    "x = np.array(range(0,len(auc_values_train)))\n",
    "y_train = np.array(auc_values_train)\n",
    "y_test = np.array(auc_values_test)\n",
    "plt.xticks(x, variables, rotation = 90)\n",
    "plt.plot(x,y_train)\n",
    "plt.plot(x,y_test)\n",
    "plt.ylim((0.6, 0.8))\n",
    "plt.show()"
   ]
  }
 ],
 "metadata": {
  "interpreter": {
   "hash": "6131a6c53236501bcbd93c7d31595c707a36edab99a1bddee2d083c33bcb6550"
  },
  "kernelspec": {
   "display_name": "Python 3.8.12",
   "language": "python",
   "name": "python3"
  },
  "language_info": {
   "codemirror_mode": {
    "name": "ipython",
    "version": 3
   },
   "file_extension": ".py",
   "mimetype": "text/x-python",
   "name": "python",
   "nbconvert_exporter": "python",
   "pygments_lexer": "ipython3",
   "version": "3.8.12"
  },
  "orig_nbformat": 4
 },
 "nbformat": 4,
 "nbformat_minor": 2
}
