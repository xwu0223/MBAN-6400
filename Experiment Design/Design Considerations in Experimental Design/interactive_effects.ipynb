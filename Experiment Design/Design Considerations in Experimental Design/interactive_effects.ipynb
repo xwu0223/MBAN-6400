{
 "cells": [
  {
   "cell_type": "markdown",
   "metadata": {},
   "source": [
    "## Interactive Effects"
   ]
  },
  {
   "cell_type": "code",
   "execution_count": 1,
   "metadata": {},
   "outputs": [],
   "source": [
    "import plotnine as p9\n",
    "import pandas as pd\n",
    "import scipy.stats as stats\n",
    "import numpy as np\n",
    "import statsmodels as sm"
   ]
  },
  {
   "cell_type": "code",
   "execution_count": 2,
   "metadata": {},
   "outputs": [
    {
     "name": "stderr",
     "output_type": "stream",
     "text": [
      "/var/folders/9s/zz7k8h2949d__gv0rmbn3yj80000gn/T/ipykernel_81736/2585484668.py:3: SettingWithCopyWarning: \n",
      "A value is trying to be set on a copy of a slice from a DataFrame.\n",
      "Try using .loc[row_indexer,col_indexer] = value instead\n",
      "\n",
      "See the caveats in the documentation: https://pandas.pydata.org/pandas-docs/stable/user_guide/indexing.html#returning-a-view-versus-a-copy\n"
     ]
    }
   ],
   "source": [
    "data = pd.read_csv('/Users/xingkaiwu/OneDrive - York University/MBAN Winter/MBAN 6400/Datacamp Experiment Design/olyathswim.csv')\n",
    "athletes = data[(data['Weight'].isna()== False) & ((data['Event'].str.endswith('100 metres')) | (data['Event'].str.endswith('10,000 metres')))]\n",
    "athletes['Event_1'] = athletes['Event'].map(lambda x: '100 meters' if (x.find('100 metres')!= -1) else '10,000 meters')"
   ]
  },
  {
   "cell_type": "code",
   "execution_count": 3,
   "metadata": {},
   "outputs": [
    {
     "name": "stdout",
     "output_type": "stream",
     "text": [
      "                    sum_sq      df            F        PR(>F)\n",
      "Sex          141607.485844     1.0  3191.693293  0.000000e+00\n",
      "Event_1       83295.483535     1.0  1877.398179  0.000000e+00\n",
      "Sex:Event_1    1551.609798     1.0    34.971757  3.680613e-09\n",
      "Residual     148986.100430  3358.0          NaN           NaN\n"
     ]
    }
   ],
   "source": [
    "# Run the ANOVA\n",
    "model = sm.api.formula.ols('Weight ~ Sex + Event_1 + Sex:Event_1', data = athletes).fit()\n",
    "\n",
    "# Extract our table\n",
    "aov_table = sm.api.stats.anova_lm(model, typ=2)\n",
    "\n",
    "# Print the table\n",
    "print(aov_table)"
   ]
  },
  {
   "cell_type": "code",
   "execution_count": 4,
   "metadata": {},
   "outputs": [
    {
     "name": "stdout",
     "output_type": "stream",
     "text": [
      "                sum_sq     df           F        PR(>F)\n",
      "Sex       11975.530932    1.0  159.038723  7.512939e-33\n",
      "Team      12274.160018    1.0  163.004609  1.506805e-33\n",
      "Sex:Team    107.335230    1.0    1.425445  2.329344e-01\n",
      "Residual  50149.444322  666.0         NaN           NaN\n"
     ]
    }
   ],
   "source": [
    "athletes = data[(data['Height'].isna()== False) & (data['Team'].isin(['Colombia','Norway'])==True)]\n",
    "\n",
    "# Create model\n",
    "formula = 'Height ~ Sex + Team + Sex:Team'\n",
    "model = sm.api.formula.ols(formula,data=athletes).fit()\n",
    "\n",
    "# Perform ANOVA and print table\n",
    "aov_table = sm.api.stats.anova_lm(model,typ=2)\n",
    "print(aov_table)"
   ]
  }
 ],
 "metadata": {
  "interpreter": {
   "hash": "6131a6c53236501bcbd93c7d31595c707a36edab99a1bddee2d083c33bcb6550"
  },
  "kernelspec": {
   "display_name": "Python 3.8.12",
   "language": "python",
   "name": "python3"
  },
  "language_info": {
   "codemirror_mode": {
    "name": "ipython",
    "version": 3
   },
   "file_extension": ".py",
   "mimetype": "text/x-python",
   "name": "python",
   "nbconvert_exporter": "python",
   "pygments_lexer": "ipython3",
   "version": "3.8.12"
  },
  "orig_nbformat": 4
 },
 "nbformat": 4,
 "nbformat_minor": 2
}
