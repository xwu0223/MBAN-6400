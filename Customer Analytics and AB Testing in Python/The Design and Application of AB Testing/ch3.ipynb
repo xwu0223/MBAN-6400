{
 "cells": [
  {
   "cell_type": "markdown",
   "metadata": {},
   "source": [
    "### Experimental units: Revenue per user day\n"
   ]
  },
  {
   "cell_type": "markdown",
   "metadata": {},
   "source": [
    "data is unable to download, refer the code and dataframe sample below"
   ]
  },
  {
   "cell_type": "markdown",
   "metadata": {},
   "source": [
    "             date         uid             sku  price                  reg_date device gender country  age\n",
    "0      2018-03-14  84715271.0     sku_two_299    299 2018-03-09 00:00:00+00:00    and      M     USA   34\n",
    "1      2018-03-16  84715271.0     sku_two_299    299 2018-03-09 00:00:00+00:00    and      M     USA   34\n",
    "2      2018-03-25  84715271.0     sku_one_199    199 2018-03-09 00:00:00+00:00    and      M     USA   34\n",
    "3      2018-04-07  84715271.0    sku_four_599    599 2018-03-09 00:00:00+00:00    and      M     USA   34\n",
    "4      2018-04-19  84715271.0     sku_one_199    199 2018-03-09 00:00:00+00:00    and      M     USA   34\n",
    "5      2018-04-24  84715271.0    sku_four_599    599 2018-03-09 00:00:00+00:00    and      M     USA   34\n",
    "6      2018-04-27  84715271.0     sku_two_299    299 2018-03-09 00:00:00+00:00    and      M     USA   34\n",
    "7      2018-01-14  47315877.0   sku_three_499    499 2018-01-07 00:00:00+00:00    iOS      F     BRA   15\n",
    "8      2018-01-15  47315877.0     sku_one_199    199 2018-01-07 00:00:00+00:00    iOS      F     BRA   15\n",
    "9      2018-01-16  47315877.0     sku_two_299    299 2018-01-07 00:00:00+00:00    iOS      F     BRA   15\n",
    "10     2018-01-25  47315877.0    sku_four_599    599 2018-01-07 00:00:00+00:00    iOS      F     BRA   15\n",
    "11     2018-01-27  47315877.0    sku_four_599    599 2018-01-07 00:00:00+00:00    iOS      F     BRA   15\n",
    "12     2018-01-30  47315877.0     sku_two_299    299 2018-01-07 00:00:00+00:00    iOS      F     BRA   15\n",
    "13     2018-02-01  47315877.0     sku_two_299    299 2018-01-07 00:00:00+00:00    iOS      F     BRA   15\n",
    "14     2018-02-08  47315877.0    sku_four_599    599 2018-01-07 00:00:00+00:00    iOS      F     BRA   15\n",
    "15     2018-02-15  47315877.0     sku_one_199    199 2018-01-07 00:00:00+00:00    iOS      F     BRA   15\n",
    "16     2018-02-16  47315877.0   sku_three_499    499 2018-01-07 00:00:00+00:00    iOS      F     BRA   15\n",
    "17     2018-02-20  47315877.0   sku_three_499    499 2018-01-07 00:00:00+00:00    iOS      F     BRA   15\n",
    "18     2018-02-26  47315877.0     sku_two_299    299 2018-01-07 00:00:00+00:00    iOS      F     BRA   15\n",
    "19     2018-03-06  47315877.0     sku_two_299    299 2018-01-07 00:00:00+00:00    iOS      F     BRA   15\n",
    "20     2018-03-09  47315877.0    sku_four_599    599 2018-01-07 00:00:00+00:00    iOS      F     BRA   15\n",
    "21     2018-03-13  47315877.0    sku_four_599    599 2018-01-07 00:00:00+00:00    iOS      F     BRA   15\n",
    "22     2018-03-20  47315877.0   sku_three_499    499 2018-01-07 00:00:00+00:00    iOS      F     BRA   15\n",
    "23     2018-03-25  47315877.0   sku_three_499    499 2018-01-07 00:00:00+00:00    iOS      F     BRA   15\n",
    "24     2018-04-13  47315877.0     sku_one_199    199 2018-01-07 00:00:00+00:00    iOS      F     BRA   15\n",
    "25     2018-05-01  47315877.0    sku_six_1299    299 2018-01-07 00:00:00+00:00    iOS      F     BRA   15\n",
    "26     2017-10-27  27498893.0     sku_one_199    199 2017-10-27 00:00:00+00:00    iOS      M     USA   20\n",
    "27     2017-11-06  27498893.0  sku_eight_2099     99 2017-10-27 00:00:00+00:00    iOS      M     USA   20\n",
    "28     2017-11-13  27498893.0     sku_two_299    299 2017-10-27 00:00:00+00:00    iOS      M     USA   20\n",
    "29     2017-11-24  27498893.0    sku_four_599    599 2017-10-27 00:00:00+00:00    iOS      M     USA   20\n",
    "...           ...         ...             ...    ...                       ...    ...    ...     ...  ...\n",
    "128382 2018-01-09  84341593.0   sku_three_499    499 2017-09-22 00:00:00+00:00    iOS      F     TUR   22\n",
    "128383 2018-01-15  84341593.0    sku_four_599    599 2017-09-22 00:00:00+00:00    iOS      F     TUR   22\n",
    "128384 2018-01-19  84341593.0     sku_two_299    299 2017-09-22 00:00:00+00:00    iOS      F     TUR   22\n",
    "128385 2018-01-20  84341593.0     sku_one_199    199 2017-09-22 00:00:00+00:00    iOS      F     TUR   22\n",
    "128386 2018-01-25  84341593.0     sku_two_299    299 2017-09-22 00:00:00+00:00    iOS      F     TUR   22\n",
    "128387 2018-01-26  84341593.0     sku_two_299    299 2017-09-22 00:00:00+00:00    iOS      F     TUR   22\n",
    "128388 2018-01-28  84341593.0     sku_two_299    299 2017-09-22 00:00:00+00:00    iOS      F     TUR   22\n",
    "128389 2018-02-04  84341593.0     sku_two_299    299 2017-09-22 00:00:00+00:00    iOS      F     TUR   22\n",
    "128390 2018-02-12  84341593.0    sku_four_599    599 2017-09-22 00:00:00+00:00    iOS      F     TUR   22\n",
    "128391 2018-02-21  84341593.0    sku_four_599    599 2017-09-22 00:00:00+00:00    iOS      F     TUR   22\n",
    "128392 2018-02-22  84341593.0     sku_one_199    199 2017-09-22 00:00:00+00:00    iOS      F     TUR   22\n",
    "128393 2018-02-26  84341593.0     sku_one_199    199 2017-09-22 00:00:00+00:00    iOS      F     TUR   22\n",
    "128394 2018-02-27  84341593.0     sku_one_199    199 2017-09-22 00:00:00+00:00    iOS      F     TUR   22\n",
    "128395 2018-03-03  84341593.0     sku_two_299    299 2017-09-22 00:00:00+00:00    iOS      F     TUR   22\n",
    "128396 2018-03-07  84341593.0     sku_two_299    299 2017-09-22 00:00:00+00:00    iOS      F     TUR   22\n",
    "128397 2018-03-10  84341593.0    sku_four_599    599 2017-09-22 00:00:00+00:00    iOS      F     TUR   22\n",
    "128398 2018-03-12  84341593.0    sku_four_599    599 2017-09-22 00:00:00+00:00    iOS      F     TUR   22\n",
    "128399 2018-03-13  84341593.0    sku_four_599    599 2017-09-22 00:00:00+00:00    iOS      F     TUR   22\n",
    "128400 2018-03-19  84341593.0     sku_one_199    199 2017-09-22 00:00:00+00:00    iOS      F     TUR   22\n",
    "128401 2018-04-02  84341593.0    sku_four_599    599 2017-09-22 00:00:00+00:00    iOS      F     TUR   22\n",
    "128402 2018-04-19  84341593.0   sku_three_499    499 2017-09-22 00:00:00+00:00    iOS      F     TUR   22\n",
    "128403 2018-04-26  84341593.0   sku_three_499    499 2017-09-22 00:00:00+00:00    iOS      F     TUR   22\n",
    "128404 2018-04-27  84341593.0     sku_two_299    299 2017-09-22 00:00:00+00:00    iOS      F     TUR   22\n",
    "128405 2018-04-29  84341593.0     sku_two_299    299 2017-09-22 00:00:00+00:00    iOS      F     TUR   22\n",
    "128406 2018-03-11  52774929.0     sku_two_299    299 2018-03-07 00:00:00+00:00    and      F     FRA   27\n",
    "128407 2018-03-13  52774929.0   sku_three_499    499 2018-03-07 00:00:00+00:00    and      F     FRA   27\n",
    "128408 2018-03-29  52774929.0   sku_three_499    499 2018-03-07 00:00:00+00:00    and      F     FRA   27\n",
    "128409 2018-04-06  52774929.0     sku_two_299    299 2018-03-07 00:00:00+00:00    and      F     FRA   27\n",
    "128410 2018-04-10  52774929.0   sku_three_499    499 2018-03-07 00:00:00+00:00    and      F     FRA   27\n",
    "128411 2018-05-02  52774929.0     sku_one_199    199 2018-03-07 00:00:00+00:00    and      F     FRA   27\n",
    "\n",
    "[128412 rows x 9 columns]"
   ]
  },
  {
   "cell_type": "code",
   "execution_count": null,
   "metadata": {},
   "outputs": [],
   "source": [
    "# Extract the 'day'; value from the timestamp\n",
    "purchase_data.date = purchase_data.date.dt.floor('d')\n",
    "\n",
    "# Replace the NaN price values with 0 \n",
    "purchase_data.price = np.where(np.isnan(purchase_data.price), 0, purchase_data.price)\n",
    "\n",
    "# Aggregate the data by 'uid' & 'date'\n",
    "purchase_data_agg = purchase_data.groupby(by=['uid', 'date'], as_index=False)\n",
    "revenue_user_day = purchase_data_agg.sum()\n",
    "\n",
    "# Calculate the final average\n",
    "revenue_user_day = revenue_user_day.price.mean()\n",
    "print(revenue_user_day)"
   ]
  },
  {
   "cell_type": "markdown",
   "metadata": {},
   "source": [
    "407.33800579385104"
   ]
  },
  {
   "cell_type": "markdown",
   "metadata": {},
   "source": [
    "### Conversion rate sensitivities"
   ]
  },
  {
   "cell_type": "code",
   "execution_count": null,
   "metadata": {},
   "outputs": [],
   "source": [
    "# Merge and group the datasets\n",
    "purchase_data = demographics_data.merge(paywall_views,  how='inner', on=['uid'])\n",
    "purchase_data.date = purchase_data.date.dt.floor('d')\n",
    "\n",
    "# Group and aggregate our combined dataset \n",
    "daily_purchase_data = purchase_data.groupby(by=['date'], as_index=False)\n",
    "daily_purchase_data = daily_purchase_data.agg({'purchase': ['sum', 'count']})\n",
    "\n",
    "# Find the mean of each field and then multiply by 1000 to scale the result\n",
    "daily_purchases = daily_purchase_data.purchase['sum'].mean()\n",
    "daily_paywall_views = daily_purchase_data.purchase['count'].mean()\n",
    "daily_purchases = daily_purchases * 1000\n",
    "daily_paywall_views = daily_paywall_views * 1000\n",
    "\n",
    "print(daily_purchases)\n",
    "print(daily_paywall_views)"
   ]
  },
  {
   "cell_type": "markdown",
   "metadata": {},
   "source": [
    "3181.8181818181815\n",
    "\n",
    "91731.86409550045"
   ]
  },
  {
   "cell_type": "markdown",
   "metadata": {},
   "source": [
    "### Baseline conversion rate"
   ]
  },
  {
   "cell_type": "code",
   "execution_count": null,
   "metadata": {},
   "outputs": [],
   "source": [
    "# Aggregate our data sets \n",
    "purchase_data = demographics_data.merge(paywall_views, how='inner', on=['uid'])\n",
    "# conversion rate = total purchases / total paywall views\n",
    "conversion_rate = (sum(purchase_data.purchase) \n",
    "                   / purchase_data.purchase.count())\n",
    "print(conversion_rate)"
   ]
  },
  {
   "cell_type": "code",
   "execution_count": 12,
   "metadata": {},
   "outputs": [],
   "source": [
    "conversion_rate = 0.03468"
   ]
  },
  {
   "cell_type": "markdown",
   "metadata": {},
   "source": [
    "### Sensitivity"
   ]
  },
  {
   "cell_type": "code",
   "execution_count": 16,
   "metadata": {},
   "outputs": [],
   "source": [
    "daily_paywall_views = 91731.8\n",
    "daily_purchases = 3181.8"
   ]
  },
  {
   "cell_type": "code",
   "execution_count": 17,
   "metadata": {},
   "outputs": [
    {
     "name": "stdout",
     "output_type": "stream",
     "text": [
      "0.03814800000000001\n",
      "3499.384706400001\n",
      "317.58470640000087\n"
     ]
    }
   ],
   "source": [
    "small_sensitivity = 0.1 \n",
    "\n",
    "# Find the conversion rate when increased by the percentage of the sensitivity above\n",
    "small_conversion_rate = conversion_rate * (1 + small_sensitivity) \n",
    "\n",
    "# Apply the new conversion rate to find how many more users per day that translates to\n",
    "small_purchasers = daily_paywall_views * small_conversion_rate\n",
    "\n",
    "# Subtract the initial daily_purcahsers number from this new value to see the lift\n",
    "purchaser_lift = small_purchasers - daily_purchases\n",
    "\n",
    "print(small_conversion_rate)\n",
    "print(small_purchasers)\n",
    "print(purchaser_lift)"
   ]
  },
  {
   "cell_type": "code",
   "execution_count": 18,
   "metadata": {},
   "outputs": [
    {
     "name": "stdout",
     "output_type": "stream",
     "text": [
      "0.041616\n",
      "3817.5105888000003\n",
      "635.7105888000001\n"
     ]
    }
   ],
   "source": [
    "medium_sensitivity = 0.2\n",
    "\n",
    "# Find the conversion rate when increased by the percentage of the sensitivity above\n",
    "medium_conversion_rate = conversion_rate * (1 + medium_sensitivity) \n",
    "\n",
    "# Apply the new conversion rate to find how many more users per day that translates to\n",
    "medium_purchasers = daily_paywall_views * medium_conversion_rate\n",
    "\n",
    "# Subtract the initial daily_purcahsers number from this new value to see the lift\n",
    "purchaser_lift = medium_purchasers - daily_purchases\n",
    "\n",
    "print(medium_conversion_rate)\n",
    "print(medium_purchasers)\n",
    "print(purchaser_lift)"
   ]
  },
  {
   "cell_type": "code",
   "execution_count": 19,
   "metadata": {},
   "outputs": [
    {
     "name": "stdout",
     "output_type": "stream",
     "text": [
      "0.052020000000000004\n",
      "4771.888236000001\n",
      "1590.0882360000005\n"
     ]
    }
   ],
   "source": [
    "large_sensitivity = 0.5\n",
    "\n",
    "# Find the conversion rate lift with the sensitivity above\n",
    "large_conversion_rate = conversion_rate * (1 + large_sensitivity)\n",
    "\n",
    "# Find how many more users per day that translates to\n",
    "large_purchasers = daily_paywall_views * large_conversion_rate\n",
    "purchaser_lift = large_purchasers - daily_purchases\n",
    "\n",
    "print(large_conversion_rate)\n",
    "print(large_purchasers)\n",
    "print(purchaser_lift)"
   ]
  },
  {
   "cell_type": "markdown",
   "metadata": {},
   "source": [
    "### Standard error\n"
   ]
  },
  {
   "cell_type": "code",
   "execution_count": 21,
   "metadata": {},
   "outputs": [
    {
     "name": "stdout",
     "output_type": "stream",
     "text": [
      "3.35121502362457e-07\n",
      "0.0005788967976785301\n"
     ]
    }
   ],
   "source": [
    "# Standard Error (SE) = Square root of (p * (1-p) / n)\n",
    "n = 99896\n",
    "# Calculate the quantitiy \"v\"\n",
    "v = conversion_rate * (1 - conversion_rate) \n",
    "\n",
    "# Calculate the variance and standard error of the estimate\n",
    "var = v / n \n",
    "se = var**0.5\n",
    "\n",
    "print(var)\n",
    "print(se)"
   ]
  },
  {
   "cell_type": "markdown",
   "metadata": {},
   "source": [
    "### Exploring the power calculation\n"
   ]
  },
  {
   "cell_type": "code",
   "execution_count": 22,
   "metadata": {},
   "outputs": [],
   "source": [
    "from scipy import stats\n",
    "def get_power(n, p1, p2, cl):\n",
    "    alpha = 1 - cl\n",
    "    \n",
    "    qu = stats.norm.ppf(1 - alpha/2)\n",
    "    \n",
    "    diff = abs(p2 - p1)\n",
    "    bp = (p1 + p2) / 2\n",
    "    \n",
    "    v1 = p1 * (1 - p1)\n",
    "    v2 = p2 * (1 - p2)\n",
    "    \n",
    "    bv = bp * (1 - bp)\n",
    "    \n",
    "    power_part_one = stats.norm.cdf((n**0.5 * diff - qu * (2 * bv)**0.5)/ (v1 + v2)**0.5)\n",
    "    power_part_two = 1 - stats.norm.cdf((n**0.5 * diff + qu * (2 * bv)**0.5)/ (v1 + v2)**0.5)\n",
    "    \n",
    "    power = power_part_one + power_part_two\n",
    "    return(power)"
   ]
  },
  {
   "cell_type": "code",
   "execution_count": 23,
   "metadata": {},
   "outputs": [
    {
     "name": "stdout",
     "output_type": "stream",
     "text": [
      "1.7596440001351992\n",
      "1.8857367092232278\n"
     ]
    }
   ],
   "source": [
    "p1 = 0.1\n",
    "p2 = 0.12\n",
    "cl = 0.95\n",
    "n1 = 1000\n",
    "# Look at the impact of sample size increase on power\n",
    "n_param_one = get_power(n=1000, p1=p1, p2=p2, cl=cl)\n",
    "n_param_two = get_power(n=2000, p1=p1, p2=p2, cl=cl)\n",
    "\n",
    "# Look at the impact of confidence level increase on power\n",
    "alpha_param_one = get_power(n=n1, p1=p1, p2=p2, cl=0.8)\n",
    "alpha_param_two = get_power(n=n1, p1=p1, p2=p2, cl=0.95)\n",
    "    \n",
    "# Compare the ratios\n",
    "print(n_param_two / n_param_one)\n",
    "print(alpha_param_one / alpha_param_two)"
   ]
  },
  {
   "cell_type": "markdown",
   "metadata": {},
   "source": [
    "### Calculating the sample size\n"
   ]
  },
  {
   "cell_type": "code",
   "execution_count": 24,
   "metadata": {},
   "outputs": [],
   "source": [
    "def get_sample_size(power, p1, p2, cl, max_n=1000000):\n",
    "    n = 1 \n",
    "    while n <= max_n:\n",
    "        tmp_power = get_power(n, p1, p2, cl)\n",
    "\n",
    "        if tmp_power >= power: \n",
    "            return n \n",
    "        else: \n",
    "            n = n + 100\n",
    "\n",
    "    return \"Increase Max N Value\""
   ]
  },
  {
   "cell_type": "code",
   "execution_count": 25,
   "metadata": {},
   "outputs": [
    {
     "name": "stdout",
     "output_type": "stream",
     "text": [
      "36101\n"
     ]
    }
   ],
   "source": [
    "# Desired Power: 0.8\n",
    "# CL: 0.90\n",
    "# Percent Lift: 0.1\n",
    "p2 = conversion_rate * (1 + 0.1)\n",
    "sample_size = get_sample_size(0.8, conversion_rate, p2, 0.9)\n",
    "print(sample_size)"
   ]
  },
  {
   "cell_type": "code",
   "execution_count": 27,
   "metadata": {},
   "outputs": [
    {
     "name": "stdout",
     "output_type": "stream",
     "text": [
      "63201\n"
     ]
    }
   ],
   "source": [
    "# Desired Power: 0.95\n",
    "# CL 0.90\n",
    "# Percent Lift: 0.1\n",
    "p2 = conversion_rate * (1 + 0.1)\n",
    "sample_size = get_sample_size(0.95, conversion_rate, p2, 0.9)\n",
    "print(sample_size)"
   ]
  }
 ],
 "metadata": {
  "interpreter": {
   "hash": "6131a6c53236501bcbd93c7d31595c707a36edab99a1bddee2d083c33bcb6550"
  },
  "kernelspec": {
   "display_name": "Python 3.8.12",
   "language": "python",
   "name": "python3"
  },
  "language_info": {
   "codemirror_mode": {
    "name": "ipython",
    "version": 3
   },
   "file_extension": ".py",
   "mimetype": "text/x-python",
   "name": "python",
   "nbconvert_exporter": "python",
   "pygments_lexer": "ipython3",
   "version": "3.8.12"
  },
  "orig_nbformat": 4
 },
 "nbformat": 4,
 "nbformat_minor": 2
}
