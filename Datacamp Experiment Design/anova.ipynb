{
 "cells": [
  {
   "cell_type": "markdown",
   "metadata": {},
   "source": [
    "## ANOVA\n"
   ]
  },
  {
   "cell_type": "markdown",
   "metadata": {},
   "source": [
    "### One- way ANOVA\n",
    "#### The simplest type of ANOVA is a one-way ANOVA, where we have a single factor with 3 or more levels and we want to see if this factor is associated with a change in sample mean."
   ]
  },
  {
   "cell_type": "code",
   "execution_count": 16,
   "metadata": {},
   "outputs": [],
   "source": [
    "import plotnine as p9\n",
    "import pandas as pd\n",
    "import scipy.stats as stats\n",
    "import numpy as np\n",
    "import statsmodels as sm"
   ]
  },
  {
   "cell_type": "code",
   "execution_count": 11,
   "metadata": {},
   "outputs": [],
   "source": [
    "data = pd.read_csv('olyathswim.csv')\n",
    "athletes = data[(data['Weight'].isna()== False) & (data['Team'].isin(['United States', 'France', 'China'])) & (data['Sport'] == 'Athletics') & (data['Sex']=='M')]"
   ]
  },
  {
   "cell_type": "code",
   "execution_count": 14,
   "metadata": {},
   "outputs": [
    {
     "name": "stdout",
     "output_type": "stream",
     "text": [
      "F_onewayResult(statistic=36.08494654807695, pvalue=3.216668329007853e-16)\n"
     ]
    }
   ],
   "source": [
    "# Create arrays\n",
    "France_athletes = athletes[athletes.Team == 'France'].Weight\n",
    "US_athletes = athletes[athletes.Team == 'United States'].Weight\n",
    "China_athletes = athletes[athletes.Team == 'China'].Weight\n",
    "\n",
    "# Perform one-way ANOVA\n",
    "anova = stats.f_oneway(France_athletes,US_athletes,China_athletes)\n",
    "print(anova)"
   ]
  },
  {
   "cell_type": "markdown",
   "metadata": {},
   "source": [
    "### Two - way ANOVA"
   ]
  },
  {
   "cell_type": "code",
   "execution_count": 19,
   "metadata": {},
   "outputs": [],
   "source": [
    "athletes = data[(data['Weight'].isna()== False) & (data['Team'].isin(['United States','China'])) ]"
   ]
  },
  {
   "cell_type": "code",
   "execution_count": 21,
   "metadata": {},
   "outputs": [
    {
     "name": "stdout",
     "output_type": "stream",
     "text": [
      "                 sum_sq      df            F         PR(>F)\n",
      "Sex       251892.479386     1.0  1443.973427  3.811090e-279\n",
      "Team         241.272786     1.0     1.383096   2.396282e-01\n",
      "Residual  909725.383860  5215.0          NaN            NaN\n"
     ]
    }
   ],
   "source": [
    "# Create model\n",
    "formula = 'Weight ~ Sex + Team'\n",
    "model = sm.api.formula.ols(formula, data=athletes).fit()\n",
    "\n",
    "# Perform ANOVA and print table\n",
    "aov_table = sm.api.stats.anova_lm(model, typ=2)\n",
    "print(aov_table)"
   ]
  }
 ],
 "metadata": {
  "interpreter": {
   "hash": "6131a6c53236501bcbd93c7d31595c707a36edab99a1bddee2d083c33bcb6550"
  },
  "kernelspec": {
   "display_name": "Python 3.8.12",
   "language": "python",
   "name": "python3"
  },
  "language_info": {
   "codemirror_mode": {
    "name": "ipython",
    "version": 3
   },
   "file_extension": ".py",
   "mimetype": "text/x-python",
   "name": "python",
   "nbconvert_exporter": "python",
   "pygments_lexer": "ipython3",
   "version": "3.8.12"
  },
  "orig_nbformat": 4
 },
 "nbformat": 4,
 "nbformat_minor": 2
}
