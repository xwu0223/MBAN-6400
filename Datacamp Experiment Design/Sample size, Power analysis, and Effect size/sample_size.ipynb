{
 "cells": [
  {
   "cell_type": "markdown",
   "metadata": {},
   "source": [
    "## Sample Size"
   ]
  },
  {
   "cell_type": "markdown",
   "metadata": {},
   "source": [
    "### Exploring Sample Size"
   ]
  },
  {
   "cell_type": "code",
   "execution_count": 8,
   "metadata": {},
   "outputs": [],
   "source": [
    "import plotnine as p9\n",
    "import pandas as pd\n",
    "import scipy.stats as stats\n",
    "import numpy as np\n",
    "import statsmodels as sm\n",
    "from statsmodels.stats import power as pwr"
   ]
  },
  {
   "cell_type": "code",
   "execution_count": 2,
   "metadata": {},
   "outputs": [],
   "source": [
    "data = pd.read_csv('/Users/xingkaiwu/OneDrive - York University/MBAN Winter/MBAN 6400/Datacamp Experiment Design/olyathswim.csv')\n",
    "athletes = data[(data['Weight'].isna()== False) & (data['Team']=='United States') & (data['Sport'].isin(['Athletics','Swimming'])) & (data['Sex']=='M')]"
   ]
  },
  {
   "cell_type": "code",
   "execution_count": 4,
   "metadata": {},
   "outputs": [
    {
     "name": "stdout",
     "output_type": "stream",
     "text": [
      "Ttest_indResult(statistic=-4.5957029380768635, pvalue=4.865150456250806e-06)\n"
     ]
    }
   ],
   "source": [
    "# Create subset with defined random seed and perform t-test\n",
    "subset = athletes.sample(n=1000, random_state= 1007)\n",
    "print(stats.ttest_ind(subset[subset.Sport == \"Athletics\"].Weight, subset[subset.Sport == \"Swimming\"].Weight ))\n"
   ]
  },
  {
   "cell_type": "code",
   "execution_count": 5,
   "metadata": {},
   "outputs": [
    {
     "name": "stdout",
     "output_type": "stream",
     "text": [
      "Ttest_indResult(statistic=-2.015353197866729, pvalue=0.04521967921604382)\n"
     ]
    }
   ],
   "source": [
    "# Create sample with defined random seed and perform t-test\n",
    "subset = athletes.sample(n=200,random_state= 1007)\n",
    "print(stats.ttest_ind(subset[subset.Sport == \"Athletics\"].Weight, subset[subset.Sport == \"Swimming\"].Weight))"
   ]
  },
  {
   "cell_type": "code",
   "execution_count": 6,
   "metadata": {},
   "outputs": [
    {
     "name": "stdout",
     "output_type": "stream",
     "text": [
      "Ttest_indResult(statistic=-0.4128822477487438, pvalue=0.6815314551740592)\n"
     ]
    }
   ],
   "source": [
    "# Create sample with defined random seed and perform t-test\n",
    "subset = athletes.sample(n=50, random_state= 1007)\n",
    "print(stats.ttest_ind(subset[subset.Sport == \"Athletics\"].Weight, \n",
    "                      subset[subset.Sport == \"Swimming\"].Weight))"
   ]
  },
  {
   "cell_type": "markdown",
   "metadata": {},
   "source": [
    "### Sample size for a t-test"
   ]
  },
  {
   "cell_type": "code",
   "execution_count": 9,
   "metadata": {},
   "outputs": [
    {
     "name": "stdout",
     "output_type": "stream",
     "text": [
      "201.21000641384174\n"
     ]
    }
   ],
   "source": [
    "# Set parameters\n",
    "effect = 0.4\n",
    "power = 0.8\n",
    "alpha = 0.05\n",
    "\n",
    "# Calculate ratio\n",
    "swimmercount = float(len(athletes[athletes.Sport == 'Swimming']))\n",
    "athletecount = float(len(athletes[athletes.Sport == 'Athletics']))\n",
    "ratio = swimmercount/athletecount\n",
    "\n",
    "# Initialize analysis and calculate sample size\n",
    "analysis = pwr.TTestIndPower()\n",
    "ssresult = analysis.solve_power(effect_size=effect, power=power, alpha= alpha, nobs1=None, ratio=ratio)\n",
    "print(ssresult)"
   ]
  },
  {
   "cell_type": "markdown",
   "metadata": {},
   "source": [
    "a sample size of around 200 yields results that hover around statistical significance"
   ]
  }
 ],
 "metadata": {
  "interpreter": {
   "hash": "6131a6c53236501bcbd93c7d31595c707a36edab99a1bddee2d083c33bcb6550"
  },
  "kernelspec": {
   "display_name": "Python 3.8.12",
   "language": "python",
   "name": "python3"
  },
  "language_info": {
   "codemirror_mode": {
    "name": "ipython",
    "version": 3
   },
   "file_extension": ".py",
   "mimetype": "text/x-python",
   "name": "python",
   "nbconvert_exporter": "python",
   "pygments_lexer": "ipython3",
   "version": "3.8.12"
  },
  "orig_nbformat": 4
 },
 "nbformat": 4,
 "nbformat_minor": 2
}
