{
 "cells": [
  {
   "cell_type": "markdown",
   "metadata": {},
   "source": [
    "## Power"
   ]
  },
  {
   "cell_type": "markdown",
   "metadata": {},
   "source": [
    "Statistical power is the probability that we will detect an effect under specific conditions. With a power of 0, we have no chance of detecting an effect. With a power of 1, we are sure of detecting an effect."
   ]
  },
  {
   "cell_type": "code",
   "execution_count": 1,
   "metadata": {},
   "outputs": [],
   "source": [
    "import math as ma\n",
    "import pandas as pd\n",
    "import scipy.stats as stats\n",
    "import numpy as np\n",
    "import statsmodels as sm\n",
    "from statsmodels.stats import power as pwr"
   ]
  },
  {
   "cell_type": "markdown",
   "metadata": {},
   "source": [
    "Set the parameters as follows: an effect size of 0.42145, 100 samples from each group and a standard alpha value of 0.05. \n",
    "\n",
    "Run and print the power analysis."
   ]
  },
  {
   "cell_type": "code",
   "execution_count": 2,
   "metadata": {},
   "outputs": [
    {
     "name": "stdout",
     "output_type": "stream",
     "text": [
      "0.8427090697725385\n"
     ]
    }
   ],
   "source": [
    "# Set parameters\n",
    "effect_size = 0.42145\n",
    "alpha = 0.05\n",
    "samp_size = 100\n",
    "ratio = 1\n",
    "\n",
    "# Initialize analysis & calculate power\n",
    "analysis = pwr.TTestIndPower()\n",
    "pwresult = analysis.solve_power(effect_size=effect_size, power=None, alpha=alpha, ratio=ratio, nobs1=samp_size)\n",
    "print(pwresult)"
   ]
  },
  {
   "cell_type": "markdown",
   "metadata": {},
   "source": [
    "You perform a two-sample t-test, comparing the production of the fields treated with fertilizer A versus those treated with fertilizer B. You obtain the following result:\n",
    "\n",
    "Ttest_indResult(statistic=-1.4077611103176186, pvalue=0.16733016968700729)\n",
    "\n",
    "Using an alpha of 0.05, you classify the result of the t-test as not significant, indicating no difference between the fertilizers. You then perform a power analysis, using an effect_size of 0.6 (this is the smallest effect size that you would consider worthwhile), an alpha of 0.05 and the same sample size (20 fields each treatment) used for the t-test.\n",
    "\n",
    "You obtain the following result for your power: 0.45603406363350196\n",
    "\n",
    "Which of the following interpretations best fits your data?"
   ]
  },
  {
   "cell_type": "markdown",
   "metadata": {},
   "source": [
    "Ans:\n",
    "\n",
    "The result from your t-test may be a type II error or may be a true negative and the data available are not sufficient to distinguish these possibilities."
   ]
  }
 ],
 "metadata": {
  "interpreter": {
   "hash": "6131a6c53236501bcbd93c7d31595c707a36edab99a1bddee2d083c33bcb6550"
  },
  "kernelspec": {
   "display_name": "Python 3.8.12",
   "language": "python",
   "name": "python3"
  },
  "language_info": {
   "codemirror_mode": {
    "name": "ipython",
    "version": 3
   },
   "file_extension": ".py",
   "mimetype": "text/x-python",
   "name": "python",
   "nbconvert_exporter": "python",
   "pygments_lexer": "ipython3",
   "version": "3.8.12"
  },
  "orig_nbformat": 4
 },
 "nbformat": 4,
 "nbformat_minor": 2
}
