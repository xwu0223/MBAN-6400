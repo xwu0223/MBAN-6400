{
 "cells": [
  {
   "cell_type": "markdown",
   "metadata": {},
   "source": [
    "## Effect Size"
   ]
  },
  {
   "cell_type": "markdown",
   "metadata": {},
   "source": [
    "### Effect size for a t-test"
   ]
  },
  {
   "cell_type": "code",
   "execution_count": 5,
   "metadata": {},
   "outputs": [],
   "source": [
    "import math as ma\n",
    "import pandas as pd\n",
    "import scipy.stats as stats\n",
    "import numpy as np\n",
    "import statsmodels as sm\n",
    "from statsmodels.stats import power as pwr"
   ]
  },
  {
   "cell_type": "code",
   "execution_count": 2,
   "metadata": {},
   "outputs": [],
   "source": [
    "data = pd.read_csv('/Users/xingkaiwu/OneDrive - York University/MBAN Winter/MBAN 6400/Datacamp Experiment Design/olyathswim.csv')\n",
    "athletes = data[(data['Weight'].isna()== False) & (data['Team']=='United States') & (data['Sport'].isin(['Athletics','Swimming'])) & (data['Sex']=='M')]"
   ]
  },
  {
   "cell_type": "code",
   "execution_count": 3,
   "metadata": {},
   "outputs": [
    {
     "name": "stdout",
     "output_type": "stream",
     "text": [
      "0.12239214635469942\n"
     ]
    }
   ],
   "source": [
    "# Set parameters\n",
    "alpha = 0.05\n",
    "power = 0.8\n",
    "ratio = float(len(athletes[athletes.Sport == \"Swimming\"])) / len(athletes[athletes.Sport == \"Athletics\"])\n",
    "samp_size = len(athletes[athletes.Sport == \"Athletics\"])\n",
    "\n",
    "# Initialize analysis & calculate sample size\n",
    "analysis = pwr.TTestIndPower()\n",
    "esresult = analysis.solve_power(effect_size = None, \n",
    "                                power = power, \n",
    "                                nobs1 = samp_size, \n",
    "                                ratio = ratio, \n",
    "                                alpha = alpha)\n",
    "print(esresult)"
   ]
  },
  {
   "cell_type": "code",
   "execution_count": 4,
   "metadata": {},
   "outputs": [
    {
     "name": "stdout",
     "output_type": "stream",
     "text": [
      "0.2291164925076639\n"
     ]
    }
   ],
   "source": [
    "# Set parameters\n",
    "alpha = 0.05\n",
    "power = 0.8\n",
    "ratio = 1\n",
    "samp_size = 300\n",
    "\n",
    "# Initialize analysis & calculate sample size\n",
    "analysis = pwr.TTestIndPower()\n",
    "esresult = analysis.solve_power(effect_size=None, power=power, nobs1=samp_size, ratio=ratio, alpha=alpha)\n",
    "print(esresult)"
   ]
  },
  {
   "cell_type": "markdown",
   "metadata": {},
   "source": [
    "### Computing Cohen's d"
   ]
  },
  {
   "cell_type": "code",
   "execution_count": 6,
   "metadata": {},
   "outputs": [
    {
     "name": "stdout",
     "output_type": "stream",
     "text": [
      "0.42144949362633766\n"
     ]
    }
   ],
   "source": [
    "# Create series\n",
    "athl = athletes[athletes.Sport=='Athletics'].Weight\n",
    "swim = athletes[athletes.Sport=='Swimming'].Weight\n",
    "\n",
    "# Calculate difference between means and pooled standard deviation\n",
    "diff = swim.mean() - athl.mean()\n",
    "pooledstdev = ma.sqrt((athl.std()**2 + swim.std()**2)/2 )\n",
    "\n",
    "# Calculate Cohen's d\n",
    "cohend = diff / pooledstdev\n",
    "print(cohend)"
   ]
  },
  {
   "cell_type": "markdown",
   "metadata": {},
   "source": [
    "### Effect size for a Fisher exact test"
   ]
  },
  {
   "cell_type": "code",
   "execution_count": 8,
   "metadata": {},
   "outputs": [
    {
     "name": "stderr",
     "output_type": "stream",
     "text": [
      "/var/folders/9s/zz7k8h2949d__gv0rmbn3yj80000gn/T/ipykernel_93286/1804617783.py:2: SettingWithCopyWarning: \n",
      "A value is trying to be set on a copy of a slice from a DataFrame.\n",
      "Try using .loc[row_indexer,col_indexer] = value instead\n",
      "\n",
      "See the caveats in the documentation: https://pandas.pydata.org/pandas-docs/stable/user_guide/indexing.html#returning-a-view-versus-a-copy\n"
     ]
    }
   ],
   "source": [
    "medal = ['Gold','Silver','Bronze']\n",
    "athletes['MedalTF']= athletes['Medal'].map(lambda x: True if (pd.notnull(x)) else False)"
   ]
  },
  {
   "cell_type": "code",
   "execution_count": 9,
   "metadata": {},
   "outputs": [
    {
     "name": "stdout",
     "output_type": "stream",
     "text": [
      "Sport    Athletics  Swimming\n",
      "MedalTF                     \n",
      "False         1355       190\n",
      "True           780       505\n",
      "p-value of test: 0.0\n",
      "Odds ratio between groups: 4.6\n"
     ]
    }
   ],
   "source": [
    "# Create a table of cross-tabulations\n",
    "table = pd.crosstab(athletes.MedalTF,athletes.Sport)\n",
    "print(table)\n",
    "\n",
    "# Perform the Fisher exact test\n",
    "chi = stats.fisher_exact(table, alternative='two-sided')\n",
    "\n",
    "# Print p-value\n",
    "print(\"p-value of test: \" + str(round(chi[1], 5))  )\n",
    "\n",
    "# Print odds ratio  \n",
    "print(\"Odds ratio between groups: \" + str(round(chi[0], 1)))"
   ]
  },
  {
   "cell_type": "markdown",
   "metadata": {},
   "source": [
    "### Effect sizes for Pearson correlation"
   ]
  },
  {
   "cell_type": "code",
   "execution_count": 16,
   "metadata": {},
   "outputs": [],
   "source": [
    "athletes = data[(data['Weight'].isna()== False) & (data['Height'].isna()== False) & (data['Sport'].isin(['Athletics','Swimming'])) & (data['Sex']=='M')]\n",
    "ken = athletes[(athletes.Team == 'Kenya') & athletes['Event'].str.endswith('10,000 metres')]\n",
    "eth = athletes[(athletes.Team == 'Ethiopia') & athletes['Event'].str.endswith('10,000 metres')]"
   ]
  },
  {
   "cell_type": "code",
   "execution_count": 19,
   "metadata": {},
   "outputs": [
    {
     "name": "stdout",
     "output_type": "stream",
     "text": [
      "(0.745306450549595, 6.49711052150277e-07)\n"
     ]
    }
   ],
   "source": [
    "# Perform Pearson correlation\n",
    "pearsonken = stats.pearsonr(ken.Weight, ken.Height)\n",
    "print(pearsonken)"
   ]
  },
  {
   "cell_type": "code",
   "execution_count": 20,
   "metadata": {},
   "outputs": [
    {
     "name": "stdout",
     "output_type": "stream",
     "text": [
      "(0.37284506395004674, 0.03885112030532928)\n"
     ]
    }
   ],
   "source": [
    "# Perform Pearson correlation\n",
    "pearsoneth = stats.pearsonr(eth.Weight,eth.Height)\n",
    "print(pearsoneth)"
   ]
  }
 ],
 "metadata": {
  "interpreter": {
   "hash": "6131a6c53236501bcbd93c7d31595c707a36edab99a1bddee2d083c33bcb6550"
  },
  "kernelspec": {
   "display_name": "Python 3.8.12",
   "language": "python",
   "name": "python3"
  },
  "language_info": {
   "codemirror_mode": {
    "name": "ipython",
    "version": 3
   },
   "file_extension": ".py",
   "mimetype": "text/x-python",
   "name": "python",
   "nbconvert_exporter": "python",
   "pygments_lexer": "ipython3",
   "version": "3.8.12"
  },
  "orig_nbformat": 4
 },
 "nbformat": 4,
 "nbformat_minor": 2
}
