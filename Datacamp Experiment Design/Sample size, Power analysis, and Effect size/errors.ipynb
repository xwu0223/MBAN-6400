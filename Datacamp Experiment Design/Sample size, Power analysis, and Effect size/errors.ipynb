{
 "cells": [
  {
   "cell_type": "markdown",
   "metadata": {},
   "source": [
    "## Error Correction"
   ]
  },
  {
   "cell_type": "code",
   "execution_count": 1,
   "metadata": {},
   "outputs": [],
   "source": [
    "import plotnine as p9\n",
    "import pandas as pd\n",
    "import scipy.stats as stats\n",
    "import numpy as np\n",
    "import statsmodels as sm"
   ]
  },
  {
   "cell_type": "code",
   "execution_count": 2,
   "metadata": {},
   "outputs": [],
   "source": [
    "data = pd.read_csv('/Users/xingkaiwu/OneDrive - York University/MBAN Winter/MBAN 6400/Datacamp Experiment Design/olyathswim.csv')\n",
    "athletes = data[(data['Height'].isna()== False) & (data['Team']=='United States') & (data['Year'].isin([1924,1952,2016])) & (data['Sex']=='M')]"
   ]
  },
  {
   "cell_type": "markdown",
   "metadata": {},
   "source": [
    "### Bonferroni correction"
   ]
  },
  {
   "cell_type": "code",
   "execution_count": 5,
   "metadata": {},
   "outputs": [
    {
     "name": "stdout",
     "output_type": "stream",
     "text": [
      "[2.0995273280295586e-16, 4.484419167217926e-05, 0.00013562429334889781]\n",
      "(array([ True,  True,  True]), array([6.29858198e-16, 1.34532575e-04, 4.06872880e-04]), 0.016952427508441503, 0.016666666666666666)\n"
     ]
    }
   ],
   "source": [
    "# Perform three two-sample t-tests \n",
    "t_result_1924v2016= stats.ttest_ind(athletes[athletes['Year']==1924].Height, athletes[athletes['Year']==2016].Height)\n",
    "t_result_1952v2016= stats.ttest_ind(athletes[athletes['Year']==1952].Height, athletes[athletes['Year']==2016].Height)\n",
    "t_result_1924v1952= stats.ttest_ind(athletes[athletes['Year']==1924].Height, athletes[athletes['Year']==1952].Height)\n",
    "\n",
    "# Create an array of p-value results\n",
    "pvals_array = [t_result_1924v2016[1], t_result_1952v2016[1], t_result_1924v1952[1]]\n",
    "print(pvals_array)\n",
    "\n",
    "# Perform Bonferroni correction\n",
    "adjustedvalues = sm.stats.multitest.multipletests(pvals_array, alpha=0.05, method='b')\n",
    "print(adjustedvalues)"
   ]
  },
  {
   "cell_type": "markdown",
   "metadata": {},
   "source": [
    "### Šídák correction"
   ]
  },
  {
   "cell_type": "code",
   "execution_count": 21,
   "metadata": {},
   "outputs": [
    {
     "name": "stderr",
     "output_type": "stream",
     "text": [
      "/var/folders/9s/zz7k8h2949d__gv0rmbn3yj80000gn/T/ipykernel_91968/2286331211.py:2: SettingWithCopyWarning: \n",
      "A value is trying to be set on a copy of a slice from a DataFrame.\n",
      "Try using .loc[row_indexer,col_indexer] = value instead\n",
      "\n",
      "See the caveats in the documentation: https://pandas.pydata.org/pandas-docs/stable/user_guide/indexing.html#returning-a-view-versus-a-copy\n"
     ]
    }
   ],
   "source": [
    "athletes = data[(data['Height'].isna()== False) & (data['Team']=='United States') & ((data['Event'].str.endswith('100 metres')) | (data['Event'].str.endswith(\"Men's High Jump\")) | (data['Event'].str.endswith('Marathon'))) & (data['Sex']=='M')]\n",
    "athletes['Event_1'] = athletes['Event'].map(lambda x: '100 meters' if (x.find('100 metres')!= -1) else ('High Jump' if (x.find('High Jump')!= -1) else 'Marathon'))"
   ]
  },
  {
   "cell_type": "code",
   "execution_count": 23,
   "metadata": {},
   "outputs": [
    {
     "data": {
      "text/plain": [
       "100 meters    103\n",
       "Marathon       99\n",
       "High Jump      88\n",
       "Name: Event_1, dtype: int64"
      ]
     },
     "execution_count": 23,
     "metadata": {},
     "output_type": "execute_result"
    }
   ],
   "source": [
    "athletes.Event_1.value_counts()"
   ]
  },
  {
   "cell_type": "code",
   "execution_count": 26,
   "metadata": {},
   "outputs": [
    {
     "name": "stdout",
     "output_type": "stream",
     "text": [
      "[0.00991263413561775, 9.848384269358676e-07, 2.03170170479967e-05]\n",
      "(array([ True,  True,  True]), array([2.94440955e-02, 2.95451237e-06, 6.09498128e-05]), 0.016952427508441503, 0.016666666666666666)\n"
     ]
    }
   ],
   "source": [
    "# Perform Pearson correlations\n",
    "pearson100 = stats.pearsonr(athletes[athletes.Event_1 == '100 meters'].Height, athletes[athletes.Event_1 == '100 meters'].Year)\n",
    "pearsonHigh = stats.pearsonr(athletes[athletes.Event_1 == 'High Jump'].Height, athletes[athletes.Event_1 == 'High Jump'].Year)\n",
    "pearsonMara = stats.pearsonr(athletes[athletes.Event_1 == 'Marathon'].Height, athletes[athletes.Event_1 == 'Marathon'].Year)\n",
    "\n",
    "# Create array of p-values\n",
    "pvals_array = [pearson100[1],pearsonHigh[1],pearsonMara[1]]\n",
    "print(pvals_array)\n",
    "\n",
    "# Perform Šídák correction\n",
    "adjustedvalues=  sm.stats.multitest.multipletests(pvals_array, method= 's')\n",
    "print(adjustedvalues)"
   ]
  }
 ],
 "metadata": {
  "interpreter": {
   "hash": "6131a6c53236501bcbd93c7d31595c707a36edab99a1bddee2d083c33bcb6550"
  },
  "kernelspec": {
   "display_name": "Python 3.8.12",
   "language": "python",
   "name": "python3"
  },
  "language_info": {
   "codemirror_mode": {
    "name": "ipython",
    "version": 3
   },
   "file_extension": ".py",
   "mimetype": "text/x-python",
   "name": "python",
   "nbconvert_exporter": "python",
   "pygments_lexer": "ipython3",
   "version": "3.8.12"
  },
  "orig_nbformat": 4
 },
 "nbformat": 4,
 "nbformat_minor": 2
}
