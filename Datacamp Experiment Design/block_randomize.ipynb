{
 "cells": [
  {
   "cell_type": "markdown",
   "metadata": {},
   "source": [
    "## Random Sampling"
   ]
  },
  {
   "cell_type": "code",
   "execution_count": 1,
   "metadata": {},
   "outputs": [],
   "source": [
    "import plotnine as p9\n",
    "import pandas as pd\n",
    "import scipy.stats as stats\n",
    "import numpy as np"
   ]
  },
  {
   "cell_type": "code",
   "execution_count": 5,
   "metadata": {},
   "outputs": [],
   "source": [
    "data = pd.read_csv('olyathswim.csv')\n",
    "athletes = data[(data['Team'] == 'United States') & (data['Weight'].isna()== False)]"
   ]
  },
  {
   "cell_type": "code",
   "execution_count": 8,
   "metadata": {},
   "outputs": [
    {
     "name": "stdout",
     "output_type": "stream",
     "text": [
      "Ttest_indResult(statistic=-0.6231916189482111, pvalue=0.5356015934135037)\n",
      "Ttest_indResult(statistic=-2.1315597041503707, pvalue=0.0372913986545787)\n"
     ]
    }
   ],
   "source": [
    "# Define random seed\n",
    "seed0 = 0000\n",
    "seed1 = 2397\n",
    "\n",
    "# Create subsets\n",
    "subsetathl = athletes[athletes.Sport == \"Athletics\"].sample(n=30, random_state= seed0)\n",
    "subsetswim = athletes[athletes.Sport == \"Swimming\"].sample(n=30, random_state= seed0)\n",
    "\n",
    "# Perform the two-sample t-test\n",
    "t_result = stats.ttest_ind(subsetathl.Weight, subsetswim.Weight) \n",
    "print(t_result)\n",
    "\n",
    "# Create subsets\n",
    "subsetathl = athletes[athletes.Sport == \"Athletics\"].sample(n=30, random_state= seed1)\n",
    "subsetswim = athletes[athletes.Sport == \"Swimming\"].sample(n=30, random_state= seed1)\n",
    "\n",
    "# Perform the two-sample t-test\n",
    "t_result = stats.ttest_ind(subsetathl.Weight, subsetswim.Weight) \n",
    "print(t_result)"
   ]
  },
  {
   "cell_type": "markdown",
   "metadata": {},
   "source": [
    "## Blocking\n"
   ]
  },
  {
   "cell_type": "code",
   "execution_count": 11,
   "metadata": {},
   "outputs": [
    {
     "name": "stdout",
     "output_type": "stream",
     "text": [
      "Ttest_indResult(statistic=-2.9477612234116326, pvalue=0.004605461953501264)\n"
     ]
    }
   ],
   "source": [
    "seed = 9000\n",
    "\n",
    "# Create subset blocks\n",
    "subsetathlm = athletes[(athletes.Sport == \"Athletics\") & (athletes.Sex=='M')].sample(n=15, random_state= seed)\n",
    "subsetathlf = athletes[(athletes.Sport == \"Athletics\") & (athletes.Sex=='F')].sample(n=15, random_state= seed)\n",
    "subsetswimm = athletes[(athletes.Sport == \"Swimming\") & (athletes.Sex=='M')].sample(n=15, random_state= seed)\n",
    "subsetswimf = athletes[(athletes.Sport == \"Swimming\") & (athletes.Sex=='F')].sample(n=15, random_state= seed)\n",
    "\n",
    "# Combine blocks\n",
    "subsetathl = pd.concat([subsetathlm,subsetathlf])\n",
    "subsetswim = pd.concat([subsetswimm,subsetswimf])\n",
    "\n",
    "# Perform the two-sample t-test\n",
    "print(stats.ttest_ind(subsetathl.Weight,subsetswim.Weight))"
   ]
  },
  {
   "cell_type": "markdown",
   "metadata": {},
   "source": [
    "## Paired t-test"
   ]
  },
  {
   "cell_type": "code",
   "execution_count": 12,
   "metadata": {},
   "outputs": [],
   "source": [
    "Field = ['A','B','C','D','E','F','G','H','I','J']\n",
    "Yield2018 = [60.2,12.0,13.8,91.8,50.0,45.0,32.0,87.5,60.1,88.0]\n",
    "Yield2019 = [63.2,15.6,14.8,96.7,53.0,47.0,31.3,89.8,67.8,90.0]\n",
    "d = {'Field':Field,'Yield2018':Yield2018,'Yield2019':Yield2019}\n",
    "podataframe = pd.DataFrame(data = d)"
   ]
  },
  {
   "cell_type": "code",
   "execution_count": 14,
   "metadata": {},
   "outputs": [
    {
     "name": "stdout",
     "output_type": "stream",
     "text": [
      "Ttest_indResult(statistic=-0.21660326792826629, pvalue=0.8309534738562026)\n"
     ]
    }
   ],
   "source": [
    "# Perform independent t-test\n",
    "ttestind = stats.ttest_ind(podataframe.Yield2018,podataframe.Yield2019)\n",
    "print(ttestind)"
   ]
  },
  {
   "cell_type": "code",
   "execution_count": 15,
   "metadata": {},
   "outputs": [
    {
     "name": "stdout",
     "output_type": "stream",
     "text": [
      "Ttest_relResult(statistic=-4.024223770175694, pvalue=0.002998929369297433)\n"
     ]
    }
   ],
   "source": [
    "# Perform paired t-test\n",
    "ttestpair = stats.ttest_rel(podataframe.Yield2018,podataframe.Yield2019)\n",
    "print(ttestpair)"
   ]
  },
  {
   "cell_type": "code",
   "execution_count": null,
   "metadata": {},
   "outputs": [],
   "source": []
  }
 ],
 "metadata": {
  "interpreter": {
   "hash": "6131a6c53236501bcbd93c7d31595c707a36edab99a1bddee2d083c33bcb6550"
  },
  "kernelspec": {
   "display_name": "Python 3.8.12",
   "language": "python",
   "name": "python3"
  },
  "language_info": {
   "codemirror_mode": {
    "name": "ipython",
    "version": 3
   },
   "file_extension": ".py",
   "mimetype": "text/x-python",
   "name": "python",
   "nbconvert_exporter": "python",
   "pygments_lexer": "ipython3",
   "version": "3.8.12"
  },
  "orig_nbformat": 4
 },
 "nbformat": 4,
 "nbformat_minor": 2
}
